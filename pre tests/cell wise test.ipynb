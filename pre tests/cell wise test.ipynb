{
 "cells": [
  {
   "cell_type": "code",
   "execution_count": 8,
   "metadata": {
    "scrolled": true
   },
   "outputs": [
    {
     "data": {
      "text/plain": [
       "[{'id': 'QJE3Uv5S_Zg',\n",
       "  'thumbnails': ['https://i.ytimg.com/vi/QJE3Uv5S_Zg/hqdefault.jpg?sqp=-oaymwEjCOADEI4CSFryq4qpAxUIARUAAAAAGAElAADIQj0AgKJDeAE=&rs=AOn4CLDGA3kmr1UzMC1UYXEr1SGXmnIqJQ'],\n",
       "  'title': 'New Punjabi Songs 2021 | TEES MAAR KHAN (Mittran Da Naa) : KPTAAN  | Latest Punjabi Songs 2021',\n",
       "  'long_desc': None,\n",
       "  'channel': '47 Records',\n",
       "  'duration': '2:47',\n",
       "  'views': '22,587,396 views',\n",
       "  'publish_time': '2 months ago',\n",
       "  'url_suffix': '/watch?v=QJE3Uv5S_Zg'},\n",
       " {'id': 'vBBhGe_h57s',\n",
       "  'thumbnails': ['https://i.ytimg.com/vi/vBBhGe_h57s/hq720.jpg?sqp=-oaymwEjCOgCEMoBSFryq4qpAxUIARUAAAAAGAElAADIQj0AgKJDeAE=&rs=AOn4CLCe2aO0kgX5xaae7otxqMw6FYYCJw',\n",
       "   'https://i.ytimg.com/vi/vBBhGe_h57s/hq720.jpg?sqp=-oaymwEXCNAFEJQDSFryq4qpAwkIARUAAIhCGAE=&rs=AOn4CLDKYYk_SrnETgQzVsB_-e7AoKIRHQ'],\n",
       "  'title': 'Tees Maar Khan Full Movie in HD Akshay Kumar, Katrina Kaif',\n",
       "  'long_desc': None,\n",
       "  'channel': 'Rohit Soultrader',\n",
       "  'duration': '2:10:26',\n",
       "  'views': '20,505,015 views',\n",
       "  'publish_time': '2 years ago',\n",
       "  'url_suffix': '/watch?v=vBBhGe_h57s'}]"
      ]
     },
     "execution_count": 8,
     "metadata": {},
     "output_type": "execute_result"
    }
   ],
   "source": [
    "from youtube_search import YoutubeSearch\n",
    "vidlist = YoutubeSearch('tees mar khan', max_results = 2).to_dict()\n",
    "vidlist"
   ]
  },
  {
   "cell_type": "code",
   "execution_count": 10,
   "metadata": {},
   "outputs": [
    {
     "data": {
      "text/plain": [
       "['QJE3Uv5S_Zg', 'vBBhGe_h57s']"
      ]
     },
     "execution_count": 10,
     "metadata": {},
     "output_type": "execute_result"
    }
   ],
   "source": [
    "vid = []\n",
    "for i in vidlist:\n",
    "    vid.append(i['id'])\n",
    "vid"
   ]
  },
  {
   "cell_type": "code",
   "execution_count": null,
   "metadata": {},
   "outputs": [],
   "source": []
  }
 ],
 "metadata": {
  "kernelspec": {
   "display_name": "Python 3",
   "language": "python",
   "name": "python3"
  },
  "language_info": {
   "codemirror_mode": {
    "name": "ipython",
    "version": 3
   },
   "file_extension": ".py",
   "mimetype": "text/x-python",
   "name": "python",
   "nbconvert_exporter": "python",
   "pygments_lexer": "ipython3",
   "version": "3.8.3"
  }
 },
 "nbformat": 4,
 "nbformat_minor": 4
}
