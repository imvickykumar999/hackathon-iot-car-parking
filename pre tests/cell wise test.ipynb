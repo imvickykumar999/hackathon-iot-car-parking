{
 "cells": [
  {
   "cell_type": "code",
   "execution_count": 1,
   "metadata": {
    "scrolled": true
   },
   "outputs": [
    {
     "data": {
      "text/plain": [
       "[{'id': 'QJE3Uv5S_Zg',\n",
       "  'thumbnails': ['https://i.ytimg.com/vi/QJE3Uv5S_Zg/hqdefault.jpg?sqp=-oaymwEjCOADEI4CSFryq4qpAxUIARUAAAAAGAElAADIQj0AgKJDeAE=&rs=AOn4CLDGA3kmr1UzMC1UYXEr1SGXmnIqJQ'],\n",
       "  'title': 'New Punjabi Songs 2021 | TEES MAAR KHAN (Mittran Da Naa) : KPTAAN  | Latest Punjabi Songs 2021',\n",
       "  'long_desc': None,\n",
       "  'channel': '47 Records',\n",
       "  'duration': '2:34',\n",
       "  'views': '23,986,035 views',\n",
       "  'publish_time': '2 months ago',\n",
       "  'url_suffix': '/watch?v=QJE3Uv5S_Zg'},\n",
       " {'id': 'vBBhGe_h57s',\n",
       "  'thumbnails': ['https://i.ytimg.com/vi/vBBhGe_h57s/hq720.jpg?sqp=-oaymwEjCOgCEMoBSFryq4qpAxUIARUAAAAAGAElAADIQj0AgKJDeAE=&rs=AOn4CLCe2aO0kgX5xaae7otxqMw6FYYCJw',\n",
       "   'https://i.ytimg.com/vi/vBBhGe_h57s/hq720.jpg?sqp=-oaymwEXCNAFEJQDSFryq4qpAwkIARUAAIhCGAE=&rs=AOn4CLDKYYk_SrnETgQzVsB_-e7AoKIRHQ'],\n",
       "  'title': 'Tees Maar Khan Full Movie in HD Akshay Kumar, Katrina Kaif',\n",
       "  'long_desc': None,\n",
       "  'channel': 'Rohit Soultrader',\n",
       "  'duration': '2:10:26',\n",
       "  'views': '20,687,081 views',\n",
       "  'publish_time': '2 years ago',\n",
       "  'url_suffix': '/watch?v=vBBhGe_h57s'},\n",
       " {'id': 'TrUv_RgLkNw',\n",
       "  'thumbnails': ['https://i.ytimg.com/vi/TrUv_RgLkNw/hqdefault.jpg?sqp=-oaymwEjCOADEI4CSFryq4qpAxUIARUAAAAAGAElAADIQj0AgKJDeAE=&rs=AOn4CLCf7f2Sq3jQ7k1MqAjemTzl5eqSzg'],\n",
       "  'title': 'Tees Maar Khan Full Movie  Akshay Kumar New Hindi Action Movie 2020 ¦ Latest Hindi Full Movie',\n",
       "  'long_desc': None,\n",
       "  'channel': 'Movies World',\n",
       "  'duration': '1:40:13',\n",
       "  'views': '23,600 views',\n",
       "  'publish_time': '10 months ago',\n",
       "  'url_suffix': '/watch?v=TrUv_RgLkNw'},\n",
       " {'id': 'PqgNLEINaRc',\n",
       "  'thumbnails': ['https://i.ytimg.com/vi/PqgNLEINaRc/hq720.jpg?sqp=-oaymwEjCOgCEMoBSFryq4qpAxUIARUAAAAAGAElAADIQj0AgKJDeAE=&rs=AOn4CLA8neiGDTdGIdA1HaNC0s5SFVnnIA',\n",
       "   'https://i.ytimg.com/vi/PqgNLEINaRc/hq720.jpg?sqp=-oaymwEXCNAFEJQDSFryq4qpAwkIARUAAIhCGAE=&rs=AOn4CLDZcBBoT4Etv-COi__ZXRSFnXhc4Q'],\n",
       "  'title': 'Tees Maar Khan',\n",
       "  'long_desc': None,\n",
       "  'channel': 'Kptaan - Topic',\n",
       "  'duration': '2:33',\n",
       "  'views': '2,478,037 views',\n",
       "  'publish_time': 0,\n",
       "  'url_suffix': '/watch?v=PqgNLEINaRc'},\n",
       " {'id': 'ZTmF2v59CtI',\n",
       "  'thumbnails': ['https://i.ytimg.com/vi/ZTmF2v59CtI/hq720.jpg?sqp=-oaymwEjCOgCEMoBSFryq4qpAxUIARUAAAAAGAElAADIQj0AgKJDeAE=&rs=AOn4CLCLTksA0xc4Lx6yvZfoeBQWOkNWrA',\n",
       "   'https://i.ytimg.com/vi/ZTmF2v59CtI/hq720.jpg?sqp=-oaymwEXCNAFEJQDSFryq4qpAwkIARUAAIhCGAE=&rs=AOn4CLC3WDoQm75biuhjp-bo9ku2okXAyA'],\n",
       "  'title': '\"Sheila Ki Jawani\" Full Song | Tees Maar Khan | Katrina Kaif | Vishal Dadlani, Sunidhi Chauhan',\n",
       "  'long_desc': None,\n",
       "  'channel': 'T-Series',\n",
       "  'duration': '4:31',\n",
       "  'views': '184,629,685 views',\n",
       "  'publish_time': '10 years ago',\n",
       "  'url_suffix': '/watch?v=ZTmF2v59CtI'}]"
      ]
     },
     "execution_count": 1,
     "metadata": {},
     "output_type": "execute_result"
    }
   ],
   "source": [
    "from youtube_search import YoutubeSearch\n",
    "vidlist = YoutubeSearch('tees mar khan', max_results = 5).to_dict()\n",
    "vidlist"
   ]
  },
  {
   "cell_type": "code",
   "execution_count": 2,
   "metadata": {},
   "outputs": [
    {
     "data": {
      "text/plain": [
       "['QJE3Uv5S_Zg', 'vBBhGe_h57s', 'TrUv_RgLkNw', 'PqgNLEINaRc', 'ZTmF2v59CtI']"
      ]
     },
     "execution_count": 2,
     "metadata": {},
     "output_type": "execute_result"
    }
   ],
   "source": [
    "vid = []\n",
    "for i in vidlist:\n",
    "    vid.append(i['id'])\n",
    "vid"
   ]
  },
  {
   "cell_type": "code",
   "execution_count": 7,
   "metadata": {},
   "outputs": [
    {
     "name": "stdout",
     "output_type": "stream",
     "text": [
      "Collecting imvickykumar999\n",
      "  Using cached imvickykumar999-0.1.1.tar.gz (15 kB)\n",
      "Building wheels for collected packages: imvickykumar999\n",
      "  Building wheel for imvickykumar999 (setup.py): started\n",
      "  Building wheel for imvickykumar999 (setup.py): finished with status 'done'\n",
      "  Created wheel for imvickykumar999: filename=imvickykumar999-0.1.1-py3-none-any.whl size=18397 sha256=6612437821ebf9bb546e883bcd3e8692bf33516dcb789c34db1033be21373927\n",
      "  Stored in directory: c:\\users\\vicky\\appdata\\local\\pip\\cache\\wheels\\e1\\1c\\37\\5173a448b053c9ee87c7e80beddf7fcf58abb56fda2b7c20a0\n",
      "Successfully built imvickykumar999\n",
      "Installing collected packages: imvickykumar999\n",
      "Successfully installed imvickykumar999-0.1.1\n"
     ]
    }
   ],
   "source": [
    "!pip install imvickykumar999"
   ]
  },
  {
   "cell_type": "code",
   "execution_count": 26,
   "metadata": {
    "scrolled": true
   },
   "outputs": [
    {
     "name": "stdout",
     "output_type": "stream",
     "text": [
      "Help on module multivicks.crud in multivicks:\n",
      "\n",
      "NAME\n",
      "    multivicks.crud\n",
      "\n",
      "DESCRIPTION\n",
      "    # pip install imvickykumar999\n",
      "    # C:\\Users\\Vicky\\anaconda3\\Lib\\site-packages\\vicksbase\n",
      "    # https://stackoverflow.com/questions/1802971/nameerror-name-self-is-not-defined\n",
      "\n",
      "CLASSES\n",
      "    builtins.object\n",
      "        vicks\n",
      "    \n",
      "    class vicks(builtins.object)\n",
      "     |  vicks(password, name='Anonymous', link='https://chatting-c937e-default-rtdb.firebaseio.com/')\n",
      "     |  \n",
      "     |  Methods defined here:\n",
      "     |  \n",
      "     |  __init__(self, password, name='Anonymous', link='https://chatting-c937e-default-rtdb.firebaseio.com/')\n",
      "     |      Initialize self.  See help(type(self)) for accurate signature.\n",
      "     |  \n",
      "     |  pull(self, child=None)\n",
      "     |  \n",
      "     |  push(self, data=None, child=None)\n",
      "     |  \n",
      "     |  remove(self, child='A/B/C/led2')\n",
      "     |  \n",
      "     |  save(self, child=None)\n",
      "     |  \n",
      "     |  show(self)\n",
      "     |  \n",
      "     |  ----------------------------------------------------------------------\n",
      "     |  Data descriptors defined here:\n",
      "     |  \n",
      "     |  __dict__\n",
      "     |      dictionary for instance variables (if defined)\n",
      "     |  \n",
      "     |  __weakref__\n",
      "     |      list of weak references to the object (if defined)\n",
      "\n",
      "DATA\n",
      "    __warningregistry__ = {'version': 13}\n",
      "\n",
      "FILE\n",
      "    c:\\users\\vicky\\anaconda3\\lib\\site-packages\\multivicks\\crud.py\n",
      "\n",
      "\n"
     ]
    }
   ],
   "source": [
    "from multivicks import crud as c\n",
    "help(c) "
   ]
  },
  {
   "cell_type": "code",
   "execution_count": 29,
   "metadata": {
    "scrolled": true
   },
   "outputs": [],
   "source": [
    "o = c.vicks('@Hey_Vicks', \n",
    "            link = 'https://quickstart-1578034411252.firebaseio.com/') \n",
    "\n",
    "o.push(1,'A/B') "
   ]
  },
  {
   "cell_type": "code",
   "execution_count": 33,
   "metadata": {},
   "outputs": [
    {
     "data": {
      "text/plain": [
       "1"
      ]
     },
     "execution_count": 33,
     "metadata": {},
     "output_type": "execute_result"
    }
   ],
   "source": [
    "o.pull('A/B') "
   ]
  },
  {
   "cell_type": "code",
   "execution_count": 45,
   "metadata": {},
   "outputs": [],
   "source": [
    "def likes(vid):\n",
    "    from multivicks import crud as c\n",
    "    \n",
    "    obj = c.vicks('@Hey_Vicks', \n",
    "        link = 'https://quickstart-1578034411252.firebaseio.com/')\n",
    "    \n",
    "    obj.push(vid, 'Video/Views')\n",
    "    \n",
    "    return obj.pull('Video/Views')"
   ]
  },
  {
   "cell_type": "code",
   "execution_count": 42,
   "metadata": {},
   "outputs": [
    {
     "name": "stdout",
     "output_type": "stream",
     "text": [
      "QJE3Uv5S_Zg\n",
      "vBBhGe_h57s\n",
      "TrUv_RgLkNw\n",
      "PqgNLEINaRc\n",
      "ZTmF2v59CtI\n"
     ]
    }
   ],
   "source": [
    "vid_list = ['QJE3Uv5S_Zg', 'vBBhGe_h57s', 'TrUv_RgLkNw', 'PqgNLEINaRc', 'ZTmF2v59CtI']\n",
    "for i in vid_list:\n",
    "    print(i)"
   ]
  },
  {
   "cell_type": "code",
   "execution_count": 43,
   "metadata": {},
   "outputs": [
    {
     "data": {
      "text/plain": [
       "'QJE3Uv5S_Zg'"
      ]
     },
     "execution_count": 43,
     "metadata": {},
     "output_type": "execute_result"
    }
   ],
   "source": [
    "likes('QJE3Uv5S_Zg') "
   ]
  },
  {
   "cell_type": "code",
   "execution_count": 44,
   "metadata": {},
   "outputs": [
    {
     "data": {
      "text/plain": [
       "'vBBhGe_h57s'"
      ]
     },
     "execution_count": 44,
     "metadata": {},
     "output_type": "execute_result"
    }
   ],
   "source": [
    "likes('vBBhGe_h57s')"
   ]
  },
  {
   "cell_type": "code",
   "execution_count": 47,
   "metadata": {},
   "outputs": [
    {
     "name": "stdout",
     "output_type": "stream",
     "text": [
      "{'name': '-MeoIMe1VrawvF8Mt5dZ'}\n"
     ]
    }
   ],
   "source": [
    "# from firebase import firebase  \n",
    "# firebase = firebase.FirebaseApplication(\n",
    "#     'https://quickstart-1578034411252.firebaseio.com/',\n",
    "#     None\n",
    "# )\n",
    "\n",
    "# data =  { 'Name': 'Vivek',  \n",
    "#           'RollNo': 1,  \n",
    "#           'Percentage': 76.02  \n",
    "#           }  \n",
    "# result = firebase.post('/python-sample-ed7f7/Students/',data)  \n",
    "# print(result) "
   ]
  },
  {
   "cell_type": "code",
   "execution_count": 46,
   "metadata": {},
   "outputs": [],
   "source": [
    "vidlist = ['QJE3Uv5S_Zg', 'vBBhGe_h57s', 'TrUv_RgLkNw', 'PqgNLEINaRc', 'ZTmF2v59CtI'] "
   ]
  },
  {
   "cell_type": "code",
   "execution_count": 47,
   "metadata": {},
   "outputs": [],
   "source": [
    "def views(vid):\n",
    "    from multivicks import crud as c\n",
    "    \n",
    "    obj = c.vicks('@Hey_Vicks', \n",
    "        link = 'https://quickstart-1578034411252.firebaseio.com/')\n",
    "    \n",
    "    obj.add(vid, 'Video/Views')\n",
    "    return obj.pull('Video/Views') "
   ]
  },
  {
   "cell_type": "code",
   "execution_count": 48,
   "metadata": {},
   "outputs": [
    {
     "data": {
      "text/plain": [
       "['vBBhGe_h57s',\n",
       " 'vBBhGe_h57s',\n",
       " 'vBBhGe_h57s',\n",
       " 'QJE3Uv5S_Zg',\n",
       " 'TrUv_RgLkNw',\n",
       " 'PqgNLEINaRc',\n",
       " 'PqgNLEINaRc',\n",
       " 'ZTmF2v59CtI',\n",
       " 'ZTmF2v59CtI',\n",
       " 'ZTmF2v59CtI',\n",
       " 'ZTmF2v59CtI',\n",
       " 'ZTmF2v59CtI',\n",
       " 'vBBhGe_h57s',\n",
       " 'vBBhGe_h57s',\n",
       " 'vBBhGe_h57s']"
      ]
     },
     "execution_count": 48,
     "metadata": {},
     "output_type": "execute_result"
    }
   ],
   "source": [
    "vid = vidlist[1] \n",
    "vlist = list(views(vid).values())\n",
    "vlist"
   ]
  },
  {
   "cell_type": "code",
   "execution_count": 49,
   "metadata": {},
   "outputs": [
    {
     "data": {
      "text/plain": [
       "vBBhGe_h57s    6\n",
       "ZTmF2v59CtI    5\n",
       "PqgNLEINaRc    2\n",
       "TrUv_RgLkNw    1\n",
       "QJE3Uv5S_Zg    1\n",
       "dtype: int64"
      ]
     },
     "execution_count": 49,
     "metadata": {},
     "output_type": "execute_result"
    }
   ],
   "source": [
    "import pandas as pd\n",
    "counts = pd.Series(vlist).value_counts()\n",
    "counts"
   ]
  },
  {
   "cell_type": "code",
   "execution_count": 50,
   "metadata": {},
   "outputs": [
    {
     "data": {
      "text/plain": [
       "{'vBBhGe_h57s': 6,\n",
       " 'ZTmF2v59CtI': 5,\n",
       " 'PqgNLEINaRc': 2,\n",
       " 'TrUv_RgLkNw': 1,\n",
       " 'QJE3Uv5S_Zg': 1}"
      ]
     },
     "execution_count": 50,
     "metadata": {},
     "output_type": "execute_result"
    }
   ],
   "source": [
    "vdict = dict(counts.items())\n",
    "vdict"
   ]
  },
  {
   "cell_type": "code",
   "execution_count": 51,
   "metadata": {},
   "outputs": [
    {
     "data": {
      "text/plain": [
       "['vBBhGe_h57s', 'ZTmF2v59CtI', 'PqgNLEINaRc', 'TrUv_RgLkNw', 'QJE3Uv5S_Zg']"
      ]
     },
     "execution_count": 51,
     "metadata": {},
     "output_type": "execute_result"
    }
   ],
   "source": [
    "recommend = list(vdict.keys())\n",
    "recommend"
   ]
  },
  {
   "cell_type": "code",
   "execution_count": 58,
   "metadata": {},
   "outputs": [],
   "source": [
    "def recommendation (vid):\n",
    "    from multivicks import crud as c\n",
    "    import pandas as pd\n",
    "    \n",
    "    obj = c.vicks('@Hey_Vicks', \n",
    "        link = 'https://quickstart-1578034411252.firebaseio.com/')\n",
    "    \n",
    "    obj.add(vid, 'Video/Views')\n",
    "    vlist = list(obj.pull('Video/Views').values())\n",
    "    \n",
    "    counts = pd.Series(vlist).value_counts()\n",
    "    vdict = dict(counts.items())\n",
    "    \n",
    "    recommend = list(vdict.keys())\n",
    "    return recommend"
   ]
  },
  {
   "cell_type": "code",
   "execution_count": 59,
   "metadata": {},
   "outputs": [
    {
     "data": {
      "text/plain": [
       "['vBBhGe_h57s', 'ZTmF2v59CtI', 'QJE3Uv5S_Zg', 'PqgNLEINaRc', 'TrUv_RgLkNw']"
      ]
     },
     "execution_count": 59,
     "metadata": {},
     "output_type": "execute_result"
    }
   ],
   "source": [
    "vidlist = ['QJE3Uv5S_Zg', 'vBBhGe_h57s', 'TrUv_RgLkNw', 'PqgNLEINaRc', 'ZTmF2v59CtI'] \n",
    "vid = vidlist[0] \n",
    "reclist = recommendation (vid)\n",
    "reclist"
   ]
  },
  {
   "cell_type": "code",
   "execution_count": null,
   "metadata": {},
   "outputs": [],
   "source": []
  },
  {
   "cell_type": "code",
   "execution_count": null,
   "metadata": {},
   "outputs": [],
   "source": []
  }
 ],
 "metadata": {
  "kernelspec": {
   "display_name": "Python 3",
   "language": "python",
   "name": "python3"
  },
  "language_info": {
   "codemirror_mode": {
    "name": "ipython",
    "version": 3
   },
   "file_extension": ".py",
   "mimetype": "text/x-python",
   "name": "python",
   "nbconvert_exporter": "python",
   "pygments_lexer": "ipython3",
   "version": "3.8.3"
  }
 },
 "nbformat": 4,
 "nbformat_minor": 4
}
